{
 "cells": [
  {
   "cell_type": "code",
   "execution_count": 11,
   "metadata": {},
   "outputs": [
    {
     "name": "stdout",
     "output_type": "stream",
     "text": [
      "[{'visit1': ['Москва', 'Россия']}, {'visit3': ['Владимир', 'Россия']}, {'visit7': ['Тула', 'Россия']}, {'visit8': ['Тула', 'Россия']}, {'visit9': ['Курск', 'Россия']}, {'visit10': ['Архангельск', 'Россия']}]\n"
     ]
    }
   ],
   "source": [
    "# Задание 1. Дан список с визитами по городам и странам. \n",
    "# Напишите код, который возвращает отфильтрованный список geo_logs, содержащий только визиты из России.\n",
    "\n",
    "geo_logs = [\n",
    "    {'visit1': ['Москва', 'Россия']},\n",
    "    {'visit2': ['Дели', 'Индия']},\n",
    "    {'visit3': ['Владимир', 'Россия']},\n",
    "    {'visit4': ['Лиссабон', 'Португалия']},\n",
    "    {'visit5': ['Париж', 'Франция']},\n",
    "    {'visit6': ['Лиссабон', 'Португалия']},\n",
    "    {'visit7': ['Тула', 'Россия']},\n",
    "    {'visit8': ['Тула', 'Россия']},\n",
    "    {'visit9': ['Курск', 'Россия']},\n",
    "    {'visit10': ['Архангельск', 'Россия']}\n",
    "]\n",
    "geo_logs_ru = []\n",
    "for line in geo_logs:\n",
    "    for value in line.values():\n",
    "        if 'Россия' in value:\n",
    "            geo_logs_ru.append(line)\n",
    "print(geo_logs_ru)"
   ]
  },
  {
   "cell_type": "code",
   "execution_count": 31,
   "metadata": {},
   "outputs": [
    {
     "name": "stdout",
     "output_type": "stream",
     "text": [
      "{98, 35, 15, 213, 54, 119}\n"
     ]
    }
   ],
   "source": [
    "# Задание 2. Выведите на экран все уникальные гео-ID из значений словаря ids. \n",
    "# Т. е. список вида [213, 15, 54, 119, 98, 35]\n",
    "\n",
    "ids = {'user1': [213, 213, 213, 15, 213], \n",
    "       'user2': [54, 54, 119, 119, 119], \n",
    "       'user3': [213, 98, 98, 35]}\n",
    "ids2 = set()\n",
    "for element in ids.values():\n",
    "    ids2.update(element)\n",
    "print(ids2)"
   ]
  },
  {
   "cell_type": "code",
   "execution_count": 111,
   "metadata": {},
   "outputs": [
    {
     "name": "stdout",
     "output_type": "stream",
     "text": [
      "Поисковых запросов из 3 слов(a): 57%\n",
      "Поисковых запросов из 2 слов(a): 42%\n",
      "Поисковых запросов из 1 слов(a): 0%\n"
     ]
    }
   ],
   "source": [
    "# Задание 3. Дан список поисковых запросов. \n",
    "# Получить распределение количества слов в них. \n",
    "# Т. е. поисковых запросов из одного - слова 5%, из двух - 7%, из трех - 3% и т.д.\n",
    "\n",
    "queries = [\n",
    "    'смотреть сериалы онлайн',\n",
    "    'новости спорта',\n",
    "    'афиша кино',\n",
    "    'курс доллара',\n",
    "    'сериалы этим летом',\n",
    "    'курс по питону',\n",
    "    'сериалы про спорт',\n",
    "]\n",
    "list_ = list()\n",
    "for element in queries:\n",
    "    split_ = len(element.split())\n",
    "    list_.append(split_)\n",
    "len_ = len(list_)\n",
    "max_ = max(list_) + 1\n",
    "while max_ != 1:\n",
    "    max_ -= 1\n",
    "    count = (list_.count(max_) / len_)*100\n",
    "    print (f'Поисковых запросов из {max_} слов(a): {int(count)}%')"
   ]
  },
  {
   "cell_type": "code",
   "execution_count": 67,
   "metadata": {},
   "outputs": [
    {
     "name": "stdout",
     "output_type": "stream",
     "text": [
      "yandex\n"
     ]
    }
   ],
   "source": [
    "# Задание 4. Дана статистика рекламных каналов по объемам продаж. \n",
    "# Напишите скрипт, который возвращает название канала с максимальным объемом. \n",
    "# Т. е. в данном примере скрипт должен возвращать 'yandex'.\n",
    "\n",
    "stats = {'facebook': 55, 'yandex': 120, 'vk': 115, 'google': 99, 'email': 42, 'ok': 98}\n",
    "max_ = max(stats.values())\n",
    "for canal, value_ in stats.items():\n",
    "    if value_ == max_:\n",
    "        print(canal)"
   ]
  },
  {
   "cell_type": "code",
   "execution_count": 115,
   "metadata": {},
   "outputs": [
    {
     "name": "stdout",
     "output_type": "stream",
     "text": [
      "{'2018-01-01': {'yandex': {'cpc': 100}}}\n"
     ]
    }
   ],
   "source": [
    "# Задание 5. Напишите код для преобразования произвольного списка вида \n",
    "# ['2018-01-01', 'yandex', 'cpc', 100] (он может быть любой длины) в словарь \n",
    "# {'2018-01-01': {'yandex': {'cpc': 100}}}\n",
    "\n",
    "list_ = ['2018-01-01', 'yandex', 'cpc', 100] \n",
    "list_.reverse()\n",
    "element = 0\n",
    "dic_ = {}\n",
    "for x in range (1, len(list_)):\n",
    "    if element == 0:\n",
    "        dic_[list_[x]] = list_[x-1]\n",
    "        element = 1\n",
    "    else:\n",
    "        dic_={list_[x]:dic_}\n",
    "print(dic_)"
   ]
  },
  {
   "cell_type": "code",
   "execution_count": null,
   "metadata": {},
   "outputs": [],
   "source": []
  }
 ],
 "metadata": {
  "kernelspec": {
   "display_name": "Python 3",
   "language": "python",
   "name": "python3"
  },
  "language_info": {
   "codemirror_mode": {
    "name": "ipython",
    "version": 3
   },
   "file_extension": ".py",
   "mimetype": "text/x-python",
   "name": "python",
   "nbconvert_exporter": "python",
   "pygments_lexer": "ipython3",
   "version": "3.7.6"
  }
 },
 "nbformat": 4,
 "nbformat_minor": 4
}
