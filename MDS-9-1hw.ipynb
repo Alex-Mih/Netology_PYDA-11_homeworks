{
 "cells": [
  {
   "cell_type": "code",
   "execution_count": 1,
   "metadata": {},
   "outputs": [],
   "source": [
    "import pandas as pd\n",
    "import numpy as np\n",
    "import matplotlib.pyplot as plt\n",
    "import math"
   ]
  },
  {
   "cell_type": "markdown",
   "metadata": {},
   "source": [
    "# Уровень 0:\n",
    "Даны вектора x=(1,1), y=(2, 0) и z = (0,2)\n",
    "Надо:\n",
    "Изобразить вектора на экране\n",
    "Изобразить точку x + y + z\n",
    "Найти угол между векторами x и y"
   ]
  },
  {
   "cell_type": "code",
   "execution_count": 2,
   "metadata": {},
   "outputs": [
    {
     "data": {
      "image/png": "[encoded data removed]",
      "text/plain": [
       "<Figure size 432x288 with 1 Axes>"
      ]
     },
     "metadata": {
      "needs_background": "light"
     },
     "output_type": "display_data"
    },
    {
     "data": {
      "text/plain": [
       "45.00000000000001"
      ]
     },
     "execution_count": 2,
     "metadata": {},
     "output_type": "execute_result"
    }
   ],
   "source": [
    "x = np.array([1,1])\n",
    "y = np.array([2,0])\n",
    "z = np.array([0,2])\n",
    "q = np.array([x,y,z])\n",
    "s = [0], [0]\n",
    "plt.quiver(*s, q[:,0], q[:,1], angles='xy', scale_units='xy', scale=1)\n",
    "plt.xlim(-.5, 3.5)\n",
    "plt.ylim(-.5, 3.5)\n",
    "sum_ = np.sum([x,y,z], axis=0)\n",
    "plt.scatter(sum_[0], sum_[1])\n",
    "plt.show()\n",
    "math.degrees(math.acos((np.dot(x, y) / (np.linalg.norm(x) * np.linalg.norm(y)))))"
   ]
  },
  {
   "cell_type": "markdown",
   "metadata": {},
   "source": [
    "# Уровень 1:\n",
    "Даны дома из Бостона\n",
    "Выбрать любые n домов, образующих базис в пространстве признаков дома (все колонки, кроме medv)\n",
    "Написать код разложения дома по указанному базису"
   ]
  },
  {
   "cell_type": "code",
   "execution_count": 3,
   "metadata": {},
   "outputs": [
    {
     "data": {
      "text/plain": [
       "array([ 3.33452554e+01, -5.88685782e+00, -2.36195872e+01,  2.98307124e+02,\n",
       "        1.59860658e+03,  8.03344311e+02, -1.51025137e+01, -2.53027935e+02,\n",
       "        1.68349401e+02, -1.16698432e+01, -8.08404182e+01,  1.01862022e+00,\n",
       "        4.62950052e+01])"
      ]
     },
     "execution_count": 3,
     "metadata": {},
     "output_type": "execute_result"
    }
   ],
   "source": [
    "data = pd.read_csv('boston_data.csv')\n",
    "data = data.loc[:, data.columns != 'medv']\n",
    "np.linalg.solve(np.matrix(data.iloc[:13, :]), data.iloc[13, :].to_numpy())"
   ]
  }
 ],
 "metadata": {
  "kernelspec": {
   "display_name": "Python 3",
   "language": "python",
   "name": "python3"
  },
  "language_info": {
   "codemirror_mode": {
    "name": "ipython",
    "version": 3
   },
   "file_extension": ".py",
   "mimetype": "text/x-python",
   "name": "python",
   "nbconvert_exporter": "python",
   "pygments_lexer": "ipython3",
   "version": "3.7.6"
  }
 },
 "nbformat": 4,
 "nbformat_minor": 4
}
