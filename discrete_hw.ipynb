{
 "cells": [
  {
   "cell_type": "code",
   "execution_count": 2,
   "metadata": {},
   "outputs": [],
   "source": [
    "import matplotlib.pyplot as plt\n",
    "import numpy as np\n",
    "import random\n",
    "import seaborn\n",
    "from numpy.random import choice\n",
    "from scipy.stats import *\n",
    "%matplotlib inline"
   ]
  },
  {
   "cell_type": "markdown",
   "metadata": {},
   "source": [
    "# Задание 1\n",
    "Монетку подбрасывают 15 раз, найдите вероятность выпадения простого числа орлов (решение на бумажке и на python).\n",
    "Вероятность выпадения: 0.0032 + 0.0139 + 0.0916 + 0.1964 + 0.0417 + 0.0032 = 0.35"
   ]
  },
  {
   "cell_type": "code",
   "execution_count": 3,
   "metadata": {},
   "outputs": [
    {
     "data": {
      "text/plain": [
       "0.3499755859375009"
      ]
     },
     "execution_count": 3,
     "metadata": {},
     "output_type": "execute_result"
    }
   ],
   "source": [
    "probability = 0\n",
    "number = [2, 3, 5, 7, 11, 13]\n",
    "for i in number: probability += binom.pmf(i, 15, 0.5)\n",
    "probability"
   ]
  },
  {
   "cell_type": "markdown",
   "metadata": {},
   "source": [
    "# Задание 2\n",
    "Создайте свою дискретную случайную величину с не менее, чем 10 значениями. Просемплируйте 1000 случайных значений, постройте гистограмму плотности распределения по выборке, посчитайте среднее, дисперсию и медиану."
   ]
  },
  {
   "cell_type": "code",
   "execution_count": 20,
   "metadata": {},
   "outputs": [
    {
     "data": {
      "text/plain": [
       "'Среднее: 4.551 Дисперсия: 7.895398999999999 Медиана: 5.0'"
      ]
     },
     "execution_count": 20,
     "metadata": {},
     "output_type": "execute_result"
    },
    {
     "data": {
      "image/png": "[encoded data removed]",
      "text/plain": [
       "<Figure size 432x288 with 1 Axes>"
      ]
     },
     "metadata": {
      "needs_background": "light"
     },
     "output_type": "display_data"
    }
   ],
   "source": [
    "value=np.random.choice(10, 1000)\n",
    "plt.hist(value)\n",
    "f\"Среднее: {np.mean(value)} Дисперсия: {np.var(value)} Медиана: {np.median(value)}\""
   ]
  },
  {
   "cell_type": "markdown",
   "metadata": {},
   "source": [
    "# Задание 3\n",
    "\n",
    "Пусть брошены 3 уравновешенные монеты. Рассмотрим 3 события:\n",
    "\n",
    "$A_1$ - монеты 1 и 2 упали одной и той же стороной,\n",
    "\n",
    "$A_2$ - монеты 2 и 3 упали одной и той же стороной,\n",
    "\n",
    "$A_3$ - монеты 1 и 3 упали одной и той же стороной.\n",
    "\n",
    "Покажите, почему эти 3 события являются попарно независимыми, но не являются независимыми в совокупности.\n"
   ]
  },
  {
   "cell_type": "code",
   "execution_count": 15,
   "metadata": {},
   "outputs": [
    {
     "name": "stdout",
     "output_type": "stream",
     "text": [
      "Попарно независимы\n",
      "Не являются независимыми в совокупности\n"
     ]
    }
   ],
   "source": [
    "p_A1 = 2 / 4\n",
    "p_A2 = 2 / 4\n",
    "p_A3 = 2 / 4\n",
    "\n",
    "if p_A1*p_A2 == 2 / 8:\n",
    "    print('Попарно независимы')\n",
    "else:\n",
    "    print('Попарно зависимы')\n",
    "    \n",
    "if p_A1*p_A2*p_A3 == 2 / 8:\n",
    "    print('Являются совокупно независимыми')\n",
    "else:\n",
    "    print('Не являются независимыми в совокупности')"
   ]
  },
  {
   "cell_type": "markdown",
   "metadata": {},
   "source": [
    "# Задание 4 (формула полной вероятности)\n",
    "В магазин привезли устройства с 3-х разных предприятий. Соотношение устройств следующее: 20% - продукция первого предприятия, 30% - продукция второго предприятия, 50% - продукция третьего предприятия; далее, 10% продукции первого предприятия высшего сорта, на втором предприятии - 5% и на третьем - 20% продукции высшего сорта. Найти вероятность того, что случайно купленная новая продукция окажется высшего сорта."
   ]
  },
  {
   "cell_type": "code",
   "execution_count": 19,
   "metadata": {},
   "outputs": [
    {
     "data": {
      "text/plain": [
       "'Вероятность того, что случайно купленная новая продукция окажется высшего сорта: 13.5%'"
      ]
     },
     "execution_count": 19,
     "metadata": {},
     "output_type": "execute_result"
    }
   ],
   "source": [
    "f\"Вероятность того, что случайно купленная новая продукция окажется высшего сорта: {(0.2 * 0.1 + 0.3 * 0.05 + 0.5 * 0.2)*100}%\""
   ]
  }
 ],
 "metadata": {
  "kernelspec": {
   "display_name": "Python 3",
   "language": "python",
   "name": "python3"
  },
  "language_info": {
   "codemirror_mode": {
    "name": "ipython",
    "version": 3
   },
   "file_extension": ".py",
   "mimetype": "text/x-python",
   "name": "python",
   "nbconvert_exporter": "python",
   "pygments_lexer": "ipython3",
   "version": "3.7.6"
  }
 },
 "nbformat": 4,
 "nbformat_minor": 4
}
