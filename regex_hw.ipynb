{
 "cells": [
  {
   "cell_type": "code",
   "execution_count": 36,
   "metadata": {},
   "outputs": [
    {
     "name": "stdout",
     "output_type": "stream",
     "text": [
      "Номер АВ222С валиден. Регион: 196\n"
     ]
    }
   ],
   "source": [
    "# Напишите функцию, которая принимает на вход строку и проверяет является ли \n",
    "# она валидным транспортным номером (1 буква, 3 цифры, 2 буквы, 2-3 цифры). \n",
    "# Обратите внимание, что не все буквы кириллического алфавита используются в транспортных номерах.\n",
    "# Если номер валиден, то функция должна возвращать отдельно номер и регион.\n",
    "# Примеры работы программы:\n",
    "#     car_id = 'АВ222С96'\n",
    "# Результат: Номер АВ222С валиден. Регион: 96\n",
    "#     car_id = 'АБ22ВВ193'\n",
    "# Результат: Номер не валиден\n",
    "\n",
    "import re\n",
    "car_id = 'АВ222С196'\n",
    "def car(car_id):\n",
    "    match = re.match(r'([АВЕКМНОРСТУХ]{2}\\d{3}[АВЕКМНОРСТУХ]{1})(\\d{2,3}$)', car_id.upper())\n",
    "    if match:\n",
    "        print(f'Номер {match.group(1)} валиден. Регион: {match.group(2)}')\n",
    "    else:\n",
    "        print('Номер не валиден')\n",
    "car(car_id)"
   ]
  },
  {
   "cell_type": "code",
   "execution_count": 85,
   "metadata": {},
   "outputs": [
    {
     "name": "stdout",
     "output_type": "stream",
     "text": [
      "Напишите функцию, которая функцию будет удалять все последовательные повторы слов из заданной строки при помощи регулярных выражений\n"
     ]
    }
   ],
   "source": [
    "# Задание 2\n",
    "# Напишите функцию, которая будет удалять все последовательные повторы \n",
    "# слов из заданной строки при помощи регулярных выражений.\n",
    "# Пример работы программы:\n",
    "# some_string = 'Напишите функцию функцию, которая будет будет будет будет удалять \n",
    "# все все все все последовательные повторы слов из из из из заданной строки строки \n",
    "# при помощи регулярных выражений'\n",
    "# Результат: Напишите функцию, которая будет удалять все последовательные повторы \n",
    "# слов из заданной строки при помощи регулярных выражений.\n",
    "\n",
    "import re\n",
    "some_string = 'Напишите функцию  функцию, которая функцию будет будет будет будет удалять все все все все последовательные повторы слов из из из из заданной строки строки при помощи регулярных выражений'\n",
    "delete_double = lambda some_string: print(re.sub(r'(\\w+)(\\s+\\1)+', r'\\1', some_string))\n",
    "delete_double (some_string)"
   ]
  },
  {
   "cell_type": "code",
   "execution_count": 90,
   "metadata": {},
   "outputs": [
    {
     "name": "stdout",
     "output_type": "stream",
     "text": [
      "ИТ\n"
     ]
    }
   ],
   "source": [
    "# Задание 3\n",
    "# Напишите функцию, которая будет возвращать акроним по переданной в нее строке со словами.\n",
    "# Примеры работы программы:\n",
    "#     some_words = 'Информационные технологии'\n",
    "# Результат: ИТ\n",
    "#     some_words = 'Near Field Communication'\n",
    "# Результат: NFC\n",
    "\n",
    "import re\n",
    "some_words = 'Информационные технологии'\n",
    "acronym = lambda string: print(\"\".join(re.findall(r'\\b\\w{1}', string)).upper())\n",
    "acronym(some_words)"
   ]
  },
  {
   "cell_type": "code",
   "execution_count": 83,
   "metadata": {},
   "outputs": [
    {
     "name": "stdout",
     "output_type": "stream",
     "text": [
      "test.in: 1\n",
      "mail.ru: 1\n",
      "ya.ru: 2\n",
      "gmail.com: 2\n"
     ]
    }
   ],
   "source": [
    "# Задание 4\n",
    "# Напишите функцию, которая будет принимать на вход список email-адресов и выводить их распределение по доменным зонам.\n",
    "# Пример работы программы:\n",
    "# emails = ['test@gmail.com, xyz@test.in, test@ya.ru, xyz@mail.ru, xyz@ya.ru', xyz@gmail.com]\n",
    "# Результат:\n",
    "# gmail.com: 2\n",
    "# test.in: 1 \n",
    "# ya.ru: 2 \n",
    "# mail.ru: 1\n",
    "\n",
    "import re\n",
    "emails = ['test@gmail.com', 'xyz@test.in', 'test@ya.ru', 'xyz@mail.ru', 'xyz@ya.ru', 'xyz@gmail.com']\n",
    "def domen(emails):\n",
    "    result = r'(\\w*\\d*)@(\\w*\\.\\w*)'\n",
    "    domens = [re.search(result, email).group(2) for email in emails]\n",
    "    for domen in set(domens):\n",
    "        print(f\"{domen}: {domens.count(domen)}\")    \n",
    "domen(emails)"
   ]
  }
 ],
 "metadata": {
  "kernelspec": {
   "display_name": "Python 3",
   "language": "python",
   "name": "python3"
  },
  "language_info": {
   "codemirror_mode": {
    "name": "ipython",
    "version": 3
   },
   "file_extension": ".py",
   "mimetype": "text/x-python",
   "name": "python",
   "nbconvert_exporter": "python",
   "pygments_lexer": "ipython3",
   "version": "3.7.6"
  }
 },
 "nbformat": 4,
 "nbformat_minor": 4
}
