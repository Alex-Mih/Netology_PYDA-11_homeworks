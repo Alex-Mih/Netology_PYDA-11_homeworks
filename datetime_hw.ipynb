{
 "cells": [
  {
   "cell_type": "code",
   "execution_count": 11,
   "metadata": {},
   "outputs": [
    {
     "name": "stdout",
     "output_type": "stream",
     "text": [
      "The Moscow Times:  2002-10-02 00:00:00\n",
      "The Guardian:  2013-10-11 00:00:00\n",
      "Daily News:  1977-08-18 00:00:00\n"
     ]
    }
   ],
   "source": [
    "# Задание 1\n",
    "# Печатные газеты использовали свой формат дат для каждого выпуска. \n",
    "# Для каждой газеты из списка напишите формат указанной даты для перевода в объект datetime:\n",
    "# The Moscow Times - Wednesday, October 2, 2002\n",
    "# The Guardian - Friday, 11.10.13\n",
    "# Daily News - Thursday, 18 August 1977\n",
    "\n",
    "from datetime import datetime\n",
    "print('The Moscow Times: ',datetime.strptime('Wednesday, October 2, 2002', '%A, %B %d, %Y'))\n",
    "print('The Guardian: ',datetime.strptime('Friday, 11.10.13', '%A, %d.%m.%y'))\n",
    "print('Daily News: ',datetime.strptime('Thursday, 18 August 1977', '%A, %d %B %Y'))"
   ]
  },
  {
   "cell_type": "code",
   "execution_count": 42,
   "metadata": {},
   "outputs": [
    {
     "name": "stdout",
     "output_type": "stream",
     "text": [
      "2018-04-02 True\n",
      "2018-02-29 False\n",
      "2018-19-02 False\n"
     ]
    }
   ],
   "source": [
    "# Задание 2\n",
    "# Дан поток дат в формате YYYY-MM-DD, в которых встречаются некорректные значения:\n",
    "# stream = [‘2018-04-02’, ‘2018-02-29’, ‘2018-19-02’]\n",
    "# Напишите функцию, которая проверяет эти даты на корректность. \n",
    "# Т. е. для каждой даты возвращает True (дата корректна) или False (некорректная дата).\n",
    "\n",
    "from datetime import datetime\n",
    "stream = ['2018-04-02', '2018-02-29', '2018-19-02']\n",
    "for item in stream:\n",
    "    try:\n",
    "        date_ = datetime.strptime(item, '%Y-%m-%d')\n",
    "        print(item, 'True')\n",
    "    except:\n",
    "        print(item, 'False')"
   ]
  },
  {
   "cell_type": "code",
   "execution_count": 49,
   "metadata": {},
   "outputs": [
    {
     "name": "stdout",
     "output_type": "stream",
     "text": [
      "Дата начала в формате YYYY-MM-DD: 1999-01-01\n",
      "Дата конца в формате YYYY-MM-DD: 1999-02-02\n",
      "1999-01-01\n",
      "1999-01-02\n",
      "1999-01-03\n",
      "1999-01-04\n",
      "1999-01-05\n",
      "1999-01-06\n",
      "1999-01-07\n",
      "1999-01-08\n",
      "1999-01-09\n",
      "1999-01-10\n",
      "1999-01-11\n",
      "1999-01-12\n",
      "1999-01-13\n",
      "1999-01-14\n",
      "1999-01-15\n",
      "1999-01-16\n",
      "1999-01-17\n",
      "1999-01-18\n",
      "1999-01-19\n",
      "1999-01-20\n",
      "1999-01-21\n",
      "1999-01-22\n",
      "1999-01-23\n",
      "1999-01-24\n",
      "1999-01-25\n",
      "1999-01-26\n",
      "1999-01-27\n",
      "1999-01-28\n",
      "1999-01-29\n",
      "1999-01-30\n",
      "1999-01-31\n",
      "1999-02-01\n",
      "1999-02-02\n"
     ]
    }
   ],
   "source": [
    "# Задание 3\n",
    "# Напишите функцию date_range, которая возвращает список дат за период от start_date до end_date. \n",
    "# Даты должны вводиться в формате YYYY-MM-DD. В случае неверного формата или \n",
    "# при start_date > end_date должен возвращаться пустой список.\n",
    "\n",
    "from datetime import datetime\n",
    "from datetime import timedelta\n",
    "zero = []\n",
    "def date_range(start_date, end_date):\n",
    "    try:\n",
    "        start_date_dt = datetime.strptime(start_date, '%Y-%m-%d')\n",
    "        end_date_dt = datetime.strptime(end_date, '%Y-%m-%d')\n",
    "        if end_date_dt >= start_date_dt:\n",
    "            x_dt = start_date_dt\n",
    "            while x_dt <= end_date_dt:\n",
    "                print(x_dt.strftime('%Y-%m-%d'))\n",
    "                x_dt += timedelta(days=1)\n",
    "        else:\n",
    "            print(zero)\n",
    "    except:\n",
    "        print(zero)\n",
    "start_date  = input('Дата начала в формате YYYY-MM-DD: ')\n",
    "end_date = input('Дата конца в формате YYYY-MM-DD: ')\n",
    "date_range(start_date, end_date)"
   ]
  }
 ],
 "metadata": {
  "kernelspec": {
   "display_name": "Python 3",
   "language": "python",
   "name": "python3"
  },
  "language_info": {
   "codemirror_mode": {
    "name": "ipython",
    "version": 3
   },
   "file_extension": ".py",
   "mimetype": "text/x-python",
   "name": "python",
   "nbconvert_exporter": "python",
   "pygments_lexer": "ipython3",
   "version": "3.7.6"
  }
 },
 "nbformat": 4,
 "nbformat_minor": 4
}
