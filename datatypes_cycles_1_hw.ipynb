{
 "cells": [
  {
   "cell_type": "code",
   "execution_count": 32,
   "metadata": {},
   "outputs": [
    {
     "name": "stdout",
     "output_type": "stream",
     "text": [
      "Введи слово: testing\n",
      "t\n"
     ]
    }
   ],
   "source": [
    "# Задача 1. Дано слово из латинских букв. \n",
    "# Напишите скрипт, который выводит на экран букву из середины слова (если число букв нечетное). \n",
    "# Если букв четное число, то на экран выводятся две буквы из середины.\n",
    "# Пример: для 'test' должно выводится 'es', для 'testing' - 't'\n",
    "\n",
    "word = input('Введите слово: ')\n",
    "lenght = int(len(word))\n",
    "if lenght % 2 == 0: \n",
    "    print(word[int(lenght / 2 - 1) : int(lenght / 2 + 1)])\n",
    "else: \n",
    "    print(word[lenght // 2 : lenght // 2 + 1])"
   ]
  },
  {
   "cell_type": "code",
   "execution_count": 42,
   "metadata": {},
   "outputs": [
    {
     "name": "stdout",
     "output_type": "stream",
     "text": [
      "Идеальные пары:\n",
      "Alex  и  Emma\n",
      "Arthur  и  Kate\n",
      "John  и  Kira\n",
      "Peter  и  Liza\n",
      "Richard  и  Trisha\n"
     ]
    }
   ],
   "source": [
    "# Задача 2. Мы делаем MVP dating-сервиса:\n",
    "\n",
    "boys = ['Peter', 'Alex', 'John', 'Arthur', 'Richard']\n",
    "girls = ['Kate', 'Liza', 'Kira', 'Emma', 'Trisha']\n",
    "if len(boys) == len(girls):\n",
    "    print('Идеальные пары:')\n",
    "    for element in list(zip(sorted(boys), sorted(girls))): \n",
    "                print(element [0], ' и ', element [1]) \n",
    "else:\n",
    "    print('Кто-то может остаться без пары.')\n"
   ]
  },
  {
   "cell_type": "code",
   "execution_count": 52,
   "metadata": {},
   "outputs": [
    {
     "name": "stdout",
     "output_type": "stream",
     "text": [
      "Средняя температура за неделю в Цельсиях для каждой страны:\n",
      "Thailand :\n",
      "23.857142857142854\n",
      "Germany :\n",
      "13.71428571428571\n",
      "Russia :\n",
      "3.714285714285717\n",
      "Poland :\n",
      "11.857142857142858\n"
     ]
    }
   ],
   "source": [
    "# Задача 3. У нас есть список, содержащий информацию о среднедневной температуре в Фаренгейтах \n",
    "# за недельный период по странам. Необходимо написать код, который рассчитает среднюю температуру \n",
    "# за неделю в Цельсиях для каждой страны.\n",
    "\n",
    "countries_temperature = [\n",
    " ['Thailand', [75.2, 77, 78.8, 73.4, 68, 75.2, 77]],\n",
    " ['Germany', [57.2, 55.4, 59, 59, 53.6, 55.4, 57.2]],\n",
    " ['Russia', [35.6, 37.4, 39.2, 41, 42.8, 39.2, 35.6]],\n",
    " ['Poland', [50, 50, 53.6, 57.2, 55.4, 55.4, 51.8]],\n",
    "]\n",
    "print('Средняя температура за неделю в Цельсиях для каждой страны:')\n",
    "for element in countries_temperature:\n",
    "    print (element[0],':')\n",
    "    F = sum(element[1])/len(element[1])\n",
    "    print ((5/9)*(F-32))"
   ]
  },
  {
   "cell_type": "code",
   "execution_count": 61,
   "metadata": {},
   "outputs": [
    {
     "name": "stdout",
     "output_type": "stream",
     "text": [
      "Отношение суммы всех просмотров к количеству уникальных пользователей: 23.25\n"
     ]
    }
   ],
   "source": [
    "# Задача 4. Дан поток логов по количеству просмотренных страниц для каждого пользователя. \n",
    "# Список отсортирован по ID пользователя. \n",
    "# Вам необходимо написать алгоритм, который считает среднее значение просмотров на пользователя. \n",
    "# Т. е. надо посчитать отношение суммы всех просмотров к количеству уникальных пользователей.\n",
    "\n",
    "stream = [\n",
    "    '2018-01-01,user1,3',\n",
    "    '2018-01-07,user1,4',\n",
    "    '2018-03-29,user1,1',\n",
    "    '2018-04-04,user1,13',\n",
    "    '2018-01-05,user2,7',\n",
    "    '2018-06-14,user3,4',\n",
    "    '2018-07-02,user3,10',\n",
    "    '2018-03-21,user4,19',\n",
    "    '2018-03-22,user4,4',\n",
    "    '2018-04-22,user4,8',\n",
    "    '2018-05-03,user4,9',\n",
    "    '2018-05-11,user4,11',\n",
    "]\n",
    "stream2 = []\n",
    "user = []\n",
    "sum_ = 0\n",
    "for log in stream:\n",
    "    stream2.append(log.split(','))\n",
    "for element in stream2:\n",
    "    sum_ += (int(element[2]))\n",
    "    user.append(element[1])\n",
    "print('Отношение суммы всех просмотров к количеству уникальных пользователей:', sum_ / len(set(user)))"
   ]
  },
  {
   "cell_type": "code",
   "execution_count": 68,
   "metadata": {},
   "outputs": [
    {
     "name": "stdout",
     "output_type": "stream",
     "text": [
      "Введи дату в формате YYYY-MM-DD: 2018-01-03\n",
      "Введи кампанию: yandex\n",
      "1327\n"
     ]
    }
   ],
   "source": [
    "# Задача 5. Дана статистика рекламных кампаний по дням. \n",
    "# Напишите алгоритм, который по паре дата-кампания ищет значение численного столбца. \n",
    "# Т. е. для даты '2018-01-01' и 'google' нужно получить число 25. \n",
    "# Считайте, что все комбинации дата-кампания уникальны.\n",
    "\n",
    "stats = [\n",
    "    ['2018-01-01', 'google', 25],\n",
    "    ['2018-01-01', 'yandex', 65],\n",
    "    ['2018-01-01', 'market', 89],\n",
    "    ['2018-01-02', 'google', 574],\n",
    "    ['2018-01-02', 'yandex', 249],\n",
    "    ['2018-01-02', 'market', 994],\n",
    "    ['2018-01-03', 'google', 1843],\n",
    "    ['2018-01-03', 'yandex', 1327],\n",
    "    ['2018-01-03', 'market', 1764],\n",
    "]\n",
    "\n",
    "date = input('Введи дату в формате YYYY-MM-DD: ')\n",
    "company = input('Введи кампанию: ')\n",
    "for element in stats:\n",
    "    if element[0] == date and element[1] == company:\n",
    "        print(element[2])\n",
    "    "
   ]
  },
  {
   "cell_type": "code",
   "execution_count": 72,
   "metadata": {},
   "outputs": [
    {
     "name": "stdout",
     "output_type": "stream",
     "text": [
      "103\n"
     ]
    }
   ],
   "source": [
    "# Задача 6. Напишите код, который будет вычислять сумму элементов на диагонали. Т. е. 13+32+23+35.\n",
    "# Список может быть любой длины, но всегда является \"квадратным\" \n",
    "# (количество элементов во вложенных списках равно их количеству).\n",
    "\n",
    "data = [\n",
    "    [13, 25, 23, 34],\n",
    "    [45, 32, 44, 47],\n",
    "    [12, 33, 23, 95],\n",
    "    [13, 53, 34, 35]\n",
    "]\n",
    "sum_ = 0\n",
    "diagonal = 0\n",
    "for element in data:\n",
    "    sum_ += (int(element [diagonal]))\n",
    "    diagonal += 1\n",
    "print(sum_)\n"
   ]
  }
 ],
 "metadata": {
  "kernelspec": {
   "display_name": "Python 3",
   "language": "python",
   "name": "python3"
  },
  "language_info": {
   "codemirror_mode": {
    "name": "ipython",
    "version": 3
   },
   "file_extension": ".py",
   "mimetype": "text/x-python",
   "name": "python",
   "nbconvert_exporter": "python",
   "pygments_lexer": "ipython3",
   "version": "3.7.6"
  }
 },
 "nbformat": 4,
 "nbformat_minor": 4
}
