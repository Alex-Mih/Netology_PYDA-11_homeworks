{
 "cells": [
  {
   "cell_type": "code",
   "execution_count": 26,
   "metadata": {},
   "outputs": [
    {
     "name": "stdout",
     "output_type": "stream",
     "text": [
      "Фраза 1 длиннее фразы 2\n"
     ]
    }
   ],
   "source": [
    "phrase_1 = 'Насколько проще было бы писать программы, если бы не заказчики'\n",
    "phrase_2 = '640Кб должно хватить для любых задач. Билл Гейтс (по легенде)'\n",
    "if  len(phrase_1) > len(phrase_2):\n",
    "    print('Фраза 1 длиннее фразы 2')\n",
    "elif  len(phrase_1) < len(phrase_2):\n",
    "    print('Фраза 2 длиннее фразы 1')\n",
    "else: \n",
    "    print('Фразы равной длины')"
   ]
  },
  {
   "cell_type": "code",
   "execution_count": 33,
   "metadata": {},
   "outputs": [
    {
     "name": "stdout",
     "output_type": "stream",
     "text": [
      "Високосный год\n"
     ]
    }
   ],
   "source": [
    "year = 2020\n",
    "\n",
    "if (year % 4 == 0 or year % 400 == 0) and year % 100 != 0:\n",
    "    print(\"Високосный год\")\n",
    "else:\n",
    "    print(\"Обычный год\")"
   ]
  },
  {
   "cell_type": "code",
   "execution_count": 57,
   "metadata": {},
   "outputs": [
    {
     "name": "stdout",
     "output_type": "stream",
     "text": [
      "Введите день:27\n",
      "Введите месяц с заглавной буквы:Март\n",
      "Ваш знак зодиака: Овен\n"
     ]
    }
   ],
   "source": [
    "Day = int(input('Введите день:'))\n",
    "Month = input('Введите месяц с заглавной буквы:')\n",
    "if (Month=='Декабрь' and Day >= 22)or(Month=='Январь' and Day<= 19):\n",
    "    print('Ваш знак зодиака: Козерог')\n",
    "elif (Month=='Январь' and Day >= 20)or(Month=='Февраль' and Day<= 17):\n",
    "    print('Ваш знак зодиака: Водолей')\n",
    "elif (Month=='Февраль' and Day >= 18)or(Month=='Март' and Day<= 19):\n",
    "    print('Ваш знак зодиака: Рыбы')\n",
    "elif (Month=='Март' and Day >= 20)or(Month=='Апрель' and Day<= 19):\n",
    "    print('Ваш знак зодиака: Овен')\n",
    "elif (Month=='Апрель' and Day >= 20)or(Month=='Май' and Day<= 20):\n",
    "    print('Ваш знак зодиака: Телец')\n",
    "elif (Month=='Май' and Day >= 21)or(Month=='Июнь' and Day<= 20):\n",
    "    print('Ваш знак зодиака: Близнецы')\n",
    "elif (Month=='Июнь' and Day >= 21)or(Month=='Июль' and Day<= 22):\n",
    "    print('Ваш знак зодиака: Рак')\n",
    "elif (Month=='Июль' and Day >= 23)or(Month=='Август' and Day<= 22): \n",
    "    print('Ваш знак зодиака: Лев')\n",
    "elif (Month=='Август' and Day >= 23)or(Month==\"Сентябрь\" and Day<= 22): \n",
    "    print('Ваш знак зодиака: Дева')\n",
    "elif (Month=='Сентябрь' and Day >= 23)or(Month=='Октябрь' and Day<= 22):\n",
    "    print('Ваш знак зодиака: Весы')\n",
    "elif (Month=='Октябрь' and Day >= 23)or(Month=='Ноябрь' and Day<= 21): \n",
    "    print('Ваш знак зодиака: Скорпион')\n",
    "elif (Month=='Ноябрь' and Day >= 22)or(Month=='Декабрь' and Day<= 21):\n",
    "    print('Ваш знак зодиака: Стрелец') \n",
    "else:\n",
    "    print('Что-то не так')"
   ]
  },
  {
   "cell_type": "code",
   "execution_count": 67,
   "metadata": {},
   "outputs": [
    {
     "name": "stdout",
     "output_type": "stream",
     "text": [
      "Упаковка для лыж\n"
     ]
    }
   ],
   "source": [
    "width = 10\n",
    "length  = 205\n",
    "height = 5\n",
    "if width < 15 and length  < 15 and height < 15:\n",
    "    print(\"Коробка №1\")\n",
    "elif (width < 50 or lenght < 50 or height < 50) and length <= 200:\n",
    "    print(\"Коробка №2\")\n",
    "elif length > 200:\n",
    "    print(\"Упаковка для лыж\")\n",
    "else:\n",
    "    print(\"Стандартная упаковка №3\")\n",
    "\n",
    "    \n",
    "\n"
   ]
  }
 ],
 "metadata": {
  "kernelspec": {
   "display_name": "Python 3",
   "language": "python",
   "name": "python3"
  },
  "language_info": {
   "codemirror_mode": {
    "name": "ipython",
    "version": 3
   },
   "file_extension": ".py",
   "mimetype": "text/x-python",
   "name": "python",
   "nbconvert_exporter": "python",
   "pygments_lexer": "ipython3",
   "version": "3.7.6"
  }
 },
 "nbformat": 4,
 "nbformat_minor": 4
}
