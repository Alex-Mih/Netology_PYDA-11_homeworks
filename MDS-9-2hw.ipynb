{
 "cells": [
  {
   "cell_type": "code",
   "execution_count": 1,
   "metadata": {},
   "outputs": [],
   "source": [
    "import numpy as np \n",
    "import matplotlib.pyplot as plt\n",
    "from math import cos, sin, pi"
   ]
  },
  {
   "cell_type": "markdown",
   "metadata": {},
   "source": [
    "# Уровень 0:\n",
    "Создайте матрицу 3 на 3, заполненную числами от 1 до 9\n",
    "Прибавьте к ней матрицу с единицами на диагонале\n",
    "Умножьте полученную матрицу на вектор (1, 2, 3)\n",
    "Посчитайте обратную матрицу к полученной матрице"
   ]
  },
  {
   "cell_type": "code",
   "execution_count": 2,
   "metadata": {},
   "outputs": [
    {
     "name": "stdout",
     "output_type": "stream",
     "text": [
      "[15. 34. 53.]\n"
     ]
    },
    {
     "data": {
      "text/plain": [
       "array([[-6. , -2. ,  3. ],\n",
       "       [-1. ,  0.5,  0. ],\n",
       "       [ 5. ,  1. , -2. ]])"
      ]
     },
     "execution_count": 2,
     "metadata": {},
     "output_type": "execute_result"
    }
   ],
   "source": [
    "print(np.dot(np.array([[1, 2, 3], [4, 5, 6], [7, 8, 9]]) + np.eye(3), np.array([1, 2, 3])))\n",
    "np.linalg.inv(np.array([[1, 2, 3], [4, 5, 6], [7, 8, 9]]) + np.eye(3))"
   ]
  },
  {
   "cell_type": "markdown",
   "metadata": {},
   "source": [
    "# Уровень 1:\n",
    "Дан объект в 2d пространстве:\n",
    "import numpy as np\n",
    "import matplotlib.pyplot as plt\n",
    "\n",
    "A = [\n",
    "[-100, -100, 1],\n",
    "[-100, 100, 1],\n",
    "[100, 100, 1],\n",
    "[0, 0, 1],\n",
    "[100, -100, 1],\n",
    "[-100, -100, 1]\n",
    "]\n",
    "A = np.array(A)\n",
    "x = A[:,0]\n",
    "y = A[:,1]\n",
    "plt.plot(x, y)\n",
    "plt.ylim([-200, 200])\n",
    "plt.xlim([-200, 200])\n",
    "\n",
    "При помощи матричных операций выполните:\n",
    "Уменьшить объект в два раза.\n",
    "Повернуть на 130 градусов.\n",
    "Отразить объект относительно прямой y=x\n",
    "Выполнить смещение объекта и масштабирование (применить 2 матрицы трансформаций). Смещение на (200, 300) и масштабирование на (0.5, 1,2)"
   ]
  },
  {
   "cell_type": "code",
   "execution_count": 3,
   "metadata": {},
   "outputs": [
    {
     "data": {
      "text/plain": [
       "(-200, 200)"
      ]
     },
     "execution_count": 3,
     "metadata": {},
     "output_type": "execute_result"
    },
    {
     "data": {
      "image/png": "[encoded data removed]",
      "text/plain": [
       "<Figure size 432x288 with 1 Axes>"
      ]
     },
     "metadata": {
      "needs_background": "light"
     },
     "output_type": "display_data"
    }
   ],
   "source": [
    "# Уменьшить объект в два раза\n",
    "A = np.array([\n",
    "[-100, -100, 1],\n",
    "[-100, 100, 1],\n",
    "[100, 100, 1],\n",
    "[0, 0, 1],\n",
    "[100, -100, 1],\n",
    "[-100, -100, 1]\n",
    "])\n",
    "\n",
    "B = []\n",
    "B = A * 0.5\n",
    "\n",
    "x = B[:,0]\n",
    "y = B[:,1]\n",
    "plt.plot(x, y)\n",
    "plt.ylim([-200, 200])\n",
    "plt.xlim([-200, 200])"
   ]
  },
  {
   "cell_type": "code",
   "execution_count": 3,
   "metadata": {},
   "outputs": [
    {
     "data": {
      "text/plain": [
       "(-200, 200)"
      ]
     },
     "execution_count": 3,
     "metadata": {},
     "output_type": "execute_result"
    },
    {
     "data": {
      "image/png": "[encoded data removed]",
      "text/plain": [
       "<Figure size 432x288 with 1 Axes>"
      ]
     },
     "metadata": {
      "needs_background": "light"
     },
     "output_type": "display_data"
    }
   ],
   "source": [
    "# Повернуть на 130 градусов\n",
    "aa = 130 * 180/pi\n",
    "array_ = np.array([\n",
    "    [cos(aa), sin(aa), 0],\n",
    "    [-sin(aa), cos(aa), 0],\n",
    "    [0, 0, 1]\n",
    "])\n",
    "C = []\n",
    "for i in A:\n",
    "    C.append(np.dot(array_,np.transpose(i)))\n",
    "C = np.array(C).astype(int)\n",
    "x = C[:,0]\n",
    "y = C[:,1]\n",
    "plt.plot(x, y)\n",
    "plt.ylim([-200, 200])\n",
    "plt.xlim([-200, 200])"
   ]
  },
  {
   "cell_type": "code",
   "execution_count": 4,
   "metadata": {},
   "outputs": [
    {
     "data": {
      "text/plain": [
       "(-200, 200)"
      ]
     },
     "execution_count": 4,
     "metadata": {},
     "output_type": "execute_result"
    },
    {
     "data": {
      "image/png": "[encoded data removed]",
      "text/plain": [
       "<Figure size 432x288 with 1 Axes>"
      ]
     },
     "metadata": {
      "needs_background": "light"
     },
     "output_type": "display_data"
    }
   ],
   "source": [
    "# Отразить объект относительно прямой y=x\n",
    "array_2 = np.array([\n",
    "    [0, 1, 0],\n",
    "    [1, 0, 0],\n",
    "    [0, 0, 0]\n",
    "])\n",
    "D = []\n",
    "for i in A:\n",
    "    D.append(np.dot(array_2,np.transpose(i)))\n",
    "D = np.array(D).astype(int)\n",
    "x = D[:,0]\n",
    "y = D[:,1]\n",
    "plt.plot(x, y)\n",
    "plt.ylim([-200, 200])\n",
    "plt.xlim([-200, 200])"
   ]
  },
  {
   "cell_type": "code",
   "execution_count": 5,
   "metadata": {},
   "outputs": [
    {
     "data": {
      "text/plain": [
       "(100, 400)"
      ]
     },
     "execution_count": 5,
     "metadata": {},
     "output_type": "execute_result"
    },
    {
     "data": {
      "image/png": "[encoded data removed]",
      "text/plain": [
       "<Figure size 432x288 with 1 Axes>"
      ]
     },
     "metadata": {
      "needs_background": "light"
     },
     "output_type": "display_data"
    }
   ],
   "source": [
    "# Выполнить смещение объекта и масштабирование (применить 2 матрицы трансформаций). Смещение на (200, 300) и масштабирование на (0.5, 1,2)\n",
    "array1 = np.array([\n",
    "    [1, 0, 200],\n",
    "    [0, 1, 300],\n",
    "    [0, 0, 1]\n",
    "])\n",
    "array2 = np.array([\n",
    "    [0.5, 0, 0],\n",
    "    [0, 1.2, 0],\n",
    "    [0, 0, 1]\n",
    "])\n",
    "\n",
    "E = []\n",
    "for i in A:\n",
    "    E.append(np.dot(array1, np.dot(array2, np.transpose(i))))\n",
    "E = np.array(E).astype(int)\n",
    "x = E[:,0]\n",
    "y = E[:,1]\n",
    "plt.plot(x, y)\n",
    "plt.ylim([100, 500])\n",
    "plt.xlim([100, 400])"
   ]
  }
 ],
 "metadata": {
  "kernelspec": {
   "display_name": "Python 3",
   "language": "python",
   "name": "python3"
  },
  "language_info": {
   "codemirror_mode": {
    "name": "ipython",
    "version": 3
   },
   "file_extension": ".py",
   "mimetype": "text/x-python",
   "name": "python",
   "nbconvert_exporter": "python",
   "pygments_lexer": "ipython3",
   "version": "3.7.6"
  }
 },
 "nbformat": 4,
 "nbformat_minor": 4
}
